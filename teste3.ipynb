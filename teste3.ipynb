{
 "cells": [
  {
   "cell_type": "code",
   "execution_count": 3,
   "metadata": {},
   "outputs": [
    {
     "name": "stdout",
     "output_type": "stream",
     "text": [
      "[0.7757370710488158, 0.7829869502174964, 0.7834702754954084, 0.7588206863218946, 0.7742870952150798, 0.7800869985500242, 0.7709038182696955, 0.7631706138231029, 0.7786370227162881, 0.7675205413243112, 0.7564040599323345, 0.7588206863218946, 0.7399710004833253, 0.7670372160463992, 0.7786370227162881, 0.7617206379893668, 0.7699371677138714, 0.7520541324311262, 0.7728371193813437, 0.7617206379893668, 0.7752537457709038, 0.7573707104881585, 0.7689705171580473, 0.7747704204929918, 0.7622039632672789, 0.7733204446592556, 0.7655872402126631, 0.7829869502174964, 0.778153697438376, 0.764137264378927, 0.7718704688255196, 0.7680038666022233, 0.778153697438376, 0.764137264378927, 0.7742870952150798, 0.7738037699371677, 0.7607539874335427, 0.7665538907684872, 0.7723537941034316, 0.7617206379893668, 0.7660705654905752, 0.7747704204929918, 0.7694538424359594, 0.7713871435476075, 0.7684871918801354, 0.7680038666022233, 0.7646205896568391, 0.7535041082648622, 0.7757370710488158, 0.7718704688255196, 0.7670372160463992, 0.7689705171580473, 0.7854035766070565, 0.7709038182696955, 0.7549540840985983, 0.7887868535524408, 0.7549540840985983, 0.7771870468825519, 0.7868535524407927, 0.7670372160463992, 0.7689705171580473, 0.7723537941034316, 0.7728371193813437, 0.7573707104881585, 0.7834702754954084, 0.763653939101015, 0.762687288545191, 0.7810536491058483, 0.7655872402126631, 0.7704204929917835, 0.7689705171580473, 0.7738037699371677, 0.7699371677138714, 0.7786370227162881, 0.7757370710488158, 0.7752537457709038, 0.77670372160464, 0.7839536007733204, 0.7796036732721121, 0.7728371193813437, 0.7660705654905752, 0.7810536491058483, 0.7863702271628806, 0.7607539874335427, 0.7568873852102465, 0.7631706138231029, 0.7742870952150798, 0.7660705654905752, 0.7815369743837602, 0.7709038182696955, 0.7549540840985983, 0.7839536007733204, 0.7631706138231029, 0.7704204929917835, 0.7665538907684872, 0.7728371193813437, 0.77670372160464, 0.7578540357660706, 0.77670372160464, 0.7713871435476075]\n",
      "Average accuracy: 0.7701063315611408\n",
      "Standard deviation: 0.008916147646807406\n"
     ]
    }
   ],
   "source": [
    "import pandas as pd\n",
    "from sklearn.feature_extraction.text import CountVectorizer, TfidfVectorizer\n",
    "from sklearn.naive_bayes import BernoulliNB\n",
    "from sklearn.pipeline import Pipeline\n",
    "from sklearn.model_selection import train_test_split\n",
    "from sklearn.metrics import accuracy_score\n",
    "from sklearn.model_selection import train_test_split\n",
    "from sklearn.linear_model import LogisticRegression\n",
    "from joblib import Parallel, delayed\n",
    "\n",
    "# Get train and test datasets\n",
    "df = pd.read_csv('wiki_movie_plots_drama_comedy.csv')\n",
    "\n",
    "accuracy_list = []\n",
    "# Create the pipeline\n",
    "model_lr = Pipeline([\n",
    "    ('vectorizer', TfidfVectorizer()),\n",
    "    ('classifier', LogisticRegression())\n",
    "])\n",
    "\n",
    "def train_model(i):\n",
    "\n",
    "    X_train, X_test, y_train, y_test = train_test_split(df['Plot'], df['Genre'], test_size=0.2)\n",
    "\n",
    "    # Train the pipeline\n",
    "    model_lr.fit(X_train, y_train)\n",
    "\n",
    "    # Evaluate the pipeline\n",
    "    y_pred = model_lr.predict(X_test)\n",
    "    accuracy = accuracy_score(y_test, y_pred)\n",
    "    return accuracy\n",
    "\n",
    "results = Parallel(n_jobs=-1)(delayed(train_model)(i) for i in range(100))\n",
    "print(results)\n",
    "\n",
    "print('Average accuracy:', sum(results) / len(results))\n",
    "print('Standard deviation:', pd.Series(results).std())\n"
   ]
  },
  {
   "cell_type": "code",
   "execution_count": 23,
   "metadata": {},
   "outputs": [
    {
     "name": "stdout",
     "output_type": "stream",
     "text": [
      "5964\n"
     ]
    }
   ],
   "source": [
    "print(len(df[df[\"Genre\"] == \"drama\"]))"
   ]
  },
  {
   "cell_type": "code",
   "execution_count": 14,
   "metadata": {},
   "outputs": [],
   "source": [
    "from scipy.stats import ttest_1samp\n",
    "mu_b = sum(accuracy_list) / len(accuracy_list)\n",
    "t_statistic, p_value = ttest_1samp(accuracy_list, 0.72, alternative='greater')"
   ]
  },
  {
   "cell_type": "code",
   "execution_count": 16,
   "metadata": {},
   "outputs": [
    {
     "name": "stdout",
     "output_type": "stream",
     "text": [
      "p-value: 0.00015573390399843678\n",
      "The model is significantly better than the baseline\n"
     ]
    }
   ],
   "source": [
    "print('p-value:', p_value)\n",
    "if p_value < 0.05:\n",
    "    print('The model is significantly better than the baseline')"
   ]
  },
  {
   "cell_type": "code",
   "execution_count": 17,
   "metadata": {},
   "outputs": [],
   "source": [
    "from sklearn.metrics import confusion_matrix\n",
    "\n",
    "# This block is old news\n",
    "X_train, X_test, y_train, y_test = train_test_split(df['Plot'], df['Genre'], test_size=0.2)\n",
    "model.fit(X_train, y_train)\n",
    "y_pred = model.predict(X_test)\n",
    "accuracy = accuracy_score(y_test, y_pred)\n",
    "\n",
    "# Create the confusion matrix\n",
    "cm = confusion_matrix(y_test, y_pred, labels=model.classes_)\n",
    "\n",
    "# Print the confusion matrix - we use the dataframe so it prints nicely, but you can use\n",
    "# other techniques like making a figure of simply viewing the matrix with a print() statement\n",
    "cm_df = pd.DataFrame(cm, index=model.classes_, columns=model.classes_)"
   ]
  },
  {
   "cell_type": "code",
   "execution_count": 18,
   "metadata": {},
   "outputs": [
    {
     "data": {
      "text/html": [
       "<div>\n",
       "<style scoped>\n",
       "    .dataframe tbody tr th:only-of-type {\n",
       "        vertical-align: middle;\n",
       "    }\n",
       "\n",
       "    .dataframe tbody tr th {\n",
       "        vertical-align: top;\n",
       "    }\n",
       "\n",
       "    .dataframe thead th {\n",
       "        text-align: right;\n",
       "    }\n",
       "</style>\n",
       "<table border=\"1\" class=\"dataframe\">\n",
       "  <thead>\n",
       "    <tr style=\"text-align: right;\">\n",
       "      <th></th>\n",
       "      <th>comedy</th>\n",
       "      <th>drama</th>\n",
       "    </tr>\n",
       "  </thead>\n",
       "  <tbody>\n",
       "    <tr>\n",
       "      <th>comedy</th>\n",
       "      <td>462</td>\n",
       "      <td>399</td>\n",
       "    </tr>\n",
       "    <tr>\n",
       "      <th>drama</th>\n",
       "      <td>168</td>\n",
       "      <td>1040</td>\n",
       "    </tr>\n",
       "  </tbody>\n",
       "</table>\n",
       "</div>"
      ],
      "text/plain": [
       "        comedy  drama\n",
       "comedy     462    399\n",
       "drama      168   1040"
      ]
     },
     "execution_count": 18,
     "metadata": {},
     "output_type": "execute_result"
    }
   ],
   "source": [
    "cm_df"
   ]
  },
  {
   "cell_type": "code",
   "execution_count": null,
   "metadata": {},
   "outputs": [],
   "source": []
  }
 ],
 "metadata": {
  "kernelspec": {
   "display_name": "Python 3",
   "language": "python",
   "name": "python3"
  },
  "language_info": {
   "codemirror_mode": {
    "name": "ipython",
    "version": 3
   },
   "file_extension": ".py",
   "mimetype": "text/x-python",
   "name": "python",
   "nbconvert_exporter": "python",
   "pygments_lexer": "ipython3",
   "version": "3.9.6"
  }
 },
 "nbformat": 4,
 "nbformat_minor": 2
}
